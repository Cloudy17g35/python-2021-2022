{
 "cells": [
  {
   "cell_type": "markdown",
   "metadata": {},
   "source": [
    "# Python: Drugie zadanie domowe"
   ]
  },
  {
   "cell_type": "markdown",
   "metadata": {},
   "source": [
    "Drugie zadanie domowe będzie polegać na opracowaniu danych zawartych w pliku `gapminder.csv`, który znajduje się w tym katalogu (proszę wykorzystać ten plik, a nie ten w katalogu labs04). Ten arkusz poprowadzi Cię krok po kroku po zadaniu domowym."
   ]
  },
  {
   "cell_type": "code",
   "execution_count": 1,
   "metadata": {},
   "outputs": [],
   "source": [
    "import pandas as pd\n",
    "import matplotlib.pyplot as plt\n",
    "%matplotlib inline"
   ]
  },
  {
   "cell_type": "markdown",
   "metadata": {},
   "source": [
    "**zad. 1** Wczytaj dane do zmiennej `data`, w taki sposób, żeby nazwa Państwa była kluczem."
   ]
  },
  {
   "cell_type": "code",
   "execution_count": 2,
   "metadata": {},
   "outputs": [],
   "source": [
    "data = pd.read_csv('gapminder.csv')"
   ]
  },
  {
   "cell_type": "markdown",
   "metadata": {},
   "source": [
    "**zad. 2** Znajdź najbardziej i najmniej zaludnione państwa na świecie."
   ]
  },
  {
   "cell_type": "markdown",
   "metadata": {},
   "source": [
    "Najbardziej:"
   ]
  },
  {
   "cell_type": "code",
   "execution_count": 3,
   "metadata": {},
   "outputs": [
    {
     "data": {
      "text/html": [
       "<div>\n",
       "<style scoped>\n",
       "    .dataframe tbody tr th:only-of-type {\n",
       "        vertical-align: middle;\n",
       "    }\n",
       "\n",
       "    .dataframe tbody tr th {\n",
       "        vertical-align: top;\n",
       "    }\n",
       "\n",
       "    .dataframe thead th {\n",
       "        text-align: right;\n",
       "    }\n",
       "</style>\n",
       "<table border=\"1\" class=\"dataframe\">\n",
       "  <thead>\n",
       "    <tr style=\"text-align: right;\">\n",
       "      <th></th>\n",
       "      <th>Country</th>\n",
       "      <th>female_BMI</th>\n",
       "      <th>male_BMI</th>\n",
       "      <th>gdp</th>\n",
       "      <th>population</th>\n",
       "      <th>under5mortality</th>\n",
       "      <th>life_expectancy</th>\n",
       "      <th>fertility</th>\n",
       "    </tr>\n",
       "  </thead>\n",
       "  <tbody>\n",
       "    <tr>\n",
       "      <th>33</th>\n",
       "      <td>China</td>\n",
       "      <td>22.91041</td>\n",
       "      <td>22.92176</td>\n",
       "      <td>7880.0</td>\n",
       "      <td>1.326691e+09</td>\n",
       "      <td>18.5</td>\n",
       "      <td>73.4</td>\n",
       "      <td>1.53</td>\n",
       "    </tr>\n",
       "  </tbody>\n",
       "</table>\n",
       "</div>"
      ],
      "text/plain": [
       "   Country  female_BMI  male_BMI     gdp    population  under5mortality  \\\n",
       "33   China    22.91041  22.92176  7880.0  1.326691e+09             18.5   \n",
       "\n",
       "    life_expectancy  fertility  \n",
       "33             73.4       1.53  "
      ]
     },
     "execution_count": 3,
     "metadata": {},
     "output_type": "execute_result"
    }
   ],
   "source": [
    "data[data['population'] == data['population'].max()]"
   ]
  },
  {
   "cell_type": "markdown",
   "metadata": {},
   "source": [
    "Najmniej:"
   ]
  },
  {
   "cell_type": "code",
   "execution_count": 4,
   "metadata": {},
   "outputs": [
    {
     "data": {
      "text/plain": [
       "4    Antigua and Barbuda\n",
       "Name: Country, dtype: object"
      ]
     },
     "execution_count": 4,
     "metadata": {},
     "output_type": "execute_result"
    }
   ],
   "source": [
    "data.loc[data['population'] == data['population'].min(), 'Country']"
   ]
  },
  {
   "cell_type": "markdown",
   "metadata": {},
   "source": [
    "**zad. 3** W ilu państwach współczynnik `female_BMI` jest większy od `male_BMI`."
   ]
  },
  {
   "cell_type": "code",
   "execution_count": 5,
   "metadata": {},
   "outputs": [
    {
     "data": {
      "text/plain": [
       "122"
      ]
     },
     "execution_count": 5,
     "metadata": {},
     "output_type": "execute_result"
    }
   ],
   "source": [
    "data[data['female_BMI'] > data['male_BMI']].shape[0]"
   ]
  },
  {
   "cell_type": "markdown",
   "metadata": {},
   "source": [
    "**zad. 4**\n",
    " 1. Zainstaluj bibliotekę `pycountry_convert` i zaimportuj ją.\n",
    " 1. Dodaj do danych kolumnę `continent`, która będzie zawierać nazwę kontynentu, na którym jest położone dane państwo. Wykorzystaj bibliotekę `pycountry_convert`. *Uwaga*: trzeba najpierw uzystać kod państwa w fomacie ISO-2, następnie uzystkać kod kontynentu, a na końcu uzyskać nazwę kontynentu."
   ]
  },
  {
   "cell_type": "code",
   "execution_count": 6,
   "metadata": {},
   "outputs": [
    {
     "name": "stdout",
     "output_type": "stream",
     "text": [
      "Requirement already satisfied: pycountry_convert in c:\\users\\user\\anaconda3\\lib\\site-packages (0.7.2)\n",
      "Requirement already satisfied: pytest-mock>=1.6.3 in c:\\users\\user\\anaconda3\\lib\\site-packages (from pycountry_convert) (3.6.1)\n",
      "Requirement already satisfied: repoze.lru>=0.7 in c:\\users\\user\\anaconda3\\lib\\site-packages (from pycountry_convert) (0.7)\n",
      "Requirement already satisfied: pytest-cov>=2.5.1 in c:\\users\\user\\anaconda3\\lib\\site-packages (from pycountry_convert) (3.0.0)\n",
      "Requirement already satisfied: pytest>=3.4.0 in c:\\users\\user\\anaconda3\\lib\\site-packages (from pycountry_convert) (6.2.5)\n",
      "Requirement already satisfied: pycountry>=16.11.27.1 in c:\\users\\user\\anaconda3\\lib\\site-packages (from pycountry_convert) (20.7.3)\n",
      "Requirement already satisfied: wheel>=0.30.0 in c:\\users\\user\\anaconda3\\lib\\site-packages (from pycountry_convert) (0.35.1)\n",
      "Requirement already satisfied: pprintpp>=0.3.0 in c:\\users\\user\\anaconda3\\lib\\site-packages (from pycountry_convert) (0.4.0)\n",
      "Requirement already satisfied: coverage[toml]>=5.2.1 in c:\\users\\user\\anaconda3\\lib\\site-packages (from pytest-cov>=2.5.1->pycountry_convert) (6.1.2)\n",
      "Requirement already satisfied: py>=1.8.2 in c:\\users\\user\\anaconda3\\lib\\site-packages (from pytest>=3.4.0->pycountry_convert) (1.9.0)\n",
      "Requirement already satisfied: iniconfig in c:\\users\\user\\anaconda3\\lib\\site-packages (from pytest>=3.4.0->pycountry_convert) (1.1.1)\n",
      "Requirement already satisfied: atomicwrites>=1.0; sys_platform == \"win32\" in c:\\users\\user\\anaconda3\\lib\\site-packages (from pytest>=3.4.0->pycountry_convert) (1.4.0)\n",
      "Requirement already satisfied: attrs>=19.2.0 in c:\\users\\user\\anaconda3\\lib\\site-packages (from pytest>=3.4.0->pycountry_convert) (20.3.0)\n",
      "Requirement already satisfied: colorama; sys_platform == \"win32\" in c:\\users\\user\\anaconda3\\lib\\site-packages (from pytest>=3.4.0->pycountry_convert) (0.4.4)\n",
      "Requirement already satisfied: packaging in c:\\users\\user\\anaconda3\\lib\\site-packages (from pytest>=3.4.0->pycountry_convert) (20.4)\n",
      "Requirement already satisfied: pluggy<2.0,>=0.12 in c:\\users\\user\\anaconda3\\lib\\site-packages (from pytest>=3.4.0->pycountry_convert) (0.13.1)\n",
      "Requirement already satisfied: toml in c:\\users\\user\\anaconda3\\lib\\site-packages (from pytest>=3.4.0->pycountry_convert) (0.10.1)\n",
      "Requirement already satisfied: tomli; extra == \"toml\" in c:\\users\\user\\anaconda3\\lib\\site-packages (from coverage[toml]>=5.2.1->pytest-cov>=2.5.1->pycountry_convert) (1.2.2)\n",
      "Requirement already satisfied: six in c:\\users\\user\\anaconda3\\lib\\site-packages (from packaging->pytest>=3.4.0->pycountry_convert) (1.15.0)\n",
      "Requirement already satisfied: pyparsing>=2.0.2 in c:\\users\\user\\anaconda3\\lib\\site-packages (from packaging->pytest>=3.4.0->pycountry_convert) (2.4.7)\n",
      "Note: you may need to restart the kernel to use updated packages.\n"
     ]
    }
   ],
   "source": [
    "pip install pycountry_convert"
   ]
  },
  {
   "cell_type": "code",
   "execution_count": 7,
   "metadata": {},
   "outputs": [],
   "source": [
    "import pycountry_convert as pc"
   ]
  },
  {
   "cell_type": "code",
   "execution_count": 8,
   "metadata": {},
   "outputs": [],
   "source": [
    "list_of_countries = list(data['Country'].values)"
   ]
  },
  {
   "cell_type": "code",
   "execution_count": 9,
   "metadata": {},
   "outputs": [],
   "source": [
    "converted_countries = []\n",
    "\n",
    "for country in list_of_countries:\n",
    "    converted_countries.append(pc.country_name_to_country_alpha2(country))\n",
    "    \n"
   ]
  },
  {
   "cell_type": "code",
   "execution_count": 10,
   "metadata": {},
   "outputs": [],
   "source": [
    "data['iso'] = converted_countries"
   ]
  },
  {
   "cell_type": "code",
   "execution_count": 11,
   "metadata": {},
   "outputs": [],
   "source": [
    "continents_codes= []\n",
    "for country_code in converted_countries:\n",
    "    continents_codes.append(pc.country_alpha2_to_continent_code(country_code))\n",
    "\n",
    "    "
   ]
  },
  {
   "cell_type": "code",
   "execution_count": 12,
   "metadata": {
    "scrolled": false
   },
   "outputs": [],
   "source": [
    "data['continents_codes'] = continents_codes"
   ]
  },
  {
   "cell_type": "code",
   "execution_count": 13,
   "metadata": {},
   "outputs": [],
   "source": [
    "continents_names = []\n",
    "\n",
    "for continent in continents_codes:\n",
    "    continents_names.append(pc.convert_continent_code_to_continent_name(continent))"
   ]
  },
  {
   "cell_type": "code",
   "execution_count": 14,
   "metadata": {},
   "outputs": [],
   "source": [
    "data['continent_name'] = continents_names"
   ]
  },
  {
   "cell_type": "code",
   "execution_count": 15,
   "metadata": {},
   "outputs": [
    {
     "data": {
      "text/html": [
       "<div>\n",
       "<style scoped>\n",
       "    .dataframe tbody tr th:only-of-type {\n",
       "        vertical-align: middle;\n",
       "    }\n",
       "\n",
       "    .dataframe tbody tr th {\n",
       "        vertical-align: top;\n",
       "    }\n",
       "\n",
       "    .dataframe thead th {\n",
       "        text-align: right;\n",
       "    }\n",
       "</style>\n",
       "<table border=\"1\" class=\"dataframe\">\n",
       "  <thead>\n",
       "    <tr style=\"text-align: right;\">\n",
       "      <th></th>\n",
       "      <th>Country</th>\n",
       "      <th>female_BMI</th>\n",
       "      <th>male_BMI</th>\n",
       "      <th>gdp</th>\n",
       "      <th>population</th>\n",
       "      <th>under5mortality</th>\n",
       "      <th>life_expectancy</th>\n",
       "      <th>fertility</th>\n",
       "      <th>iso</th>\n",
       "      <th>continents_codes</th>\n",
       "      <th>continent_name</th>\n",
       "    </tr>\n",
       "  </thead>\n",
       "  <tbody>\n",
       "    <tr>\n",
       "      <th>0</th>\n",
       "      <td>Afghanistan</td>\n",
       "      <td>21.07402</td>\n",
       "      <td>20.62058</td>\n",
       "      <td>1311.0</td>\n",
       "      <td>26528741.0</td>\n",
       "      <td>110.4</td>\n",
       "      <td>52.8</td>\n",
       "      <td>6.20</td>\n",
       "      <td>AF</td>\n",
       "      <td>AS</td>\n",
       "      <td>Asia</td>\n",
       "    </tr>\n",
       "    <tr>\n",
       "      <th>1</th>\n",
       "      <td>Albania</td>\n",
       "      <td>25.65726</td>\n",
       "      <td>26.44657</td>\n",
       "      <td>8644.0</td>\n",
       "      <td>2968026.0</td>\n",
       "      <td>17.9</td>\n",
       "      <td>76.8</td>\n",
       "      <td>1.76</td>\n",
       "      <td>AL</td>\n",
       "      <td>EU</td>\n",
       "      <td>Europe</td>\n",
       "    </tr>\n",
       "    <tr>\n",
       "      <th>2</th>\n",
       "      <td>Algeria</td>\n",
       "      <td>26.36841</td>\n",
       "      <td>24.59620</td>\n",
       "      <td>12314.0</td>\n",
       "      <td>34811059.0</td>\n",
       "      <td>29.5</td>\n",
       "      <td>75.5</td>\n",
       "      <td>2.73</td>\n",
       "      <td>DZ</td>\n",
       "      <td>AF</td>\n",
       "      <td>Africa</td>\n",
       "    </tr>\n",
       "    <tr>\n",
       "      <th>3</th>\n",
       "      <td>Angola</td>\n",
       "      <td>23.48431</td>\n",
       "      <td>22.25083</td>\n",
       "      <td>7103.0</td>\n",
       "      <td>19842251.0</td>\n",
       "      <td>192.0</td>\n",
       "      <td>56.7</td>\n",
       "      <td>6.43</td>\n",
       "      <td>AO</td>\n",
       "      <td>AF</td>\n",
       "      <td>Africa</td>\n",
       "    </tr>\n",
       "    <tr>\n",
       "      <th>4</th>\n",
       "      <td>Antigua and Barbuda</td>\n",
       "      <td>27.50545</td>\n",
       "      <td>25.76602</td>\n",
       "      <td>25736.0</td>\n",
       "      <td>85350.0</td>\n",
       "      <td>10.9</td>\n",
       "      <td>75.5</td>\n",
       "      <td>2.16</td>\n",
       "      <td>AG</td>\n",
       "      <td>NA</td>\n",
       "      <td>North America</td>\n",
       "    </tr>\n",
       "  </tbody>\n",
       "</table>\n",
       "</div>"
      ],
      "text/plain": [
       "               Country  female_BMI  male_BMI      gdp  population  \\\n",
       "0          Afghanistan    21.07402  20.62058   1311.0  26528741.0   \n",
       "1              Albania    25.65726  26.44657   8644.0   2968026.0   \n",
       "2              Algeria    26.36841  24.59620  12314.0  34811059.0   \n",
       "3               Angola    23.48431  22.25083   7103.0  19842251.0   \n",
       "4  Antigua and Barbuda    27.50545  25.76602  25736.0     85350.0   \n",
       "\n",
       "   under5mortality  life_expectancy  fertility iso continents_codes  \\\n",
       "0            110.4             52.8       6.20  AF               AS   \n",
       "1             17.9             76.8       1.76  AL               EU   \n",
       "2             29.5             75.5       2.73  DZ               AF   \n",
       "3            192.0             56.7       6.43  AO               AF   \n",
       "4             10.9             75.5       2.16  AG               NA   \n",
       "\n",
       "  continent_name  \n",
       "0           Asia  \n",
       "1         Europe  \n",
       "2         Africa  \n",
       "3         Africa  \n",
       "4  North America  "
      ]
     },
     "execution_count": 15,
     "metadata": {},
     "output_type": "execute_result"
    }
   ],
   "source": [
    "data.head()"
   ]
  },
  {
   "cell_type": "markdown",
   "metadata": {},
   "source": [
    "**zad. 5**\n",
    "Oblicz ile osób mieszka na każdym z kontynentów."
   ]
  },
  {
   "cell_type": "code",
   "execution_count": 16,
   "metadata": {},
   "outputs": [
    {
     "data": {
      "text/plain": [
       "Africa           9.772803e+08\n",
       "Asia             3.949400e+09\n",
       "Europe           7.219954e+08\n",
       "North America    5.235798e+08\n",
       "Oceania          3.425711e+07\n",
       "South America    3.881582e+08\n",
       "Name: population, dtype: float64"
      ]
     },
     "execution_count": 16,
     "metadata": {},
     "output_type": "execute_result"
    }
   ],
   "source": [
    "data.groupby(continents_names).sum()['population']"
   ]
  },
  {
   "cell_type": "markdown",
   "metadata": {},
   "source": [
    "**zad. 6** Narysyj wykres słupkowy pokazujący ile państw leży na każdym z kontynentów."
   ]
  },
  {
   "cell_type": "code",
   "execution_count": 17,
   "metadata": {},
   "outputs": [
    {
     "data": {
      "text/plain": [
       "([0, 1, 2, 3, 4, 5],\n",
       " [Text(0, 0, ''),\n",
       "  Text(0, 0, ''),\n",
       "  Text(0, 0, ''),\n",
       "  Text(0, 0, ''),\n",
       "  Text(0, 0, ''),\n",
       "  Text(0, 0, '')])"
      ]
     },
     "execution_count": 17,
     "metadata": {},
     "output_type": "execute_result"
    },
    {
     "data": {
      "image/png": "[encoded data removed]",
      "text/plain": [
       "<Figure size 432x288 with 1 Axes>"
      ]
     },
     "metadata": {
      "needs_background": "light"
     },
     "output_type": "display_data"
    }
   ],
   "source": [
    "plt.bar(data['continent_name'].value_counts().index, \n",
    "       data['continent_name'].value_counts().values)\n",
    "plt.xticks(rotation=45)"
   ]
  },
  {
   "cell_type": "markdown",
   "metadata": {},
   "source": [
    "**zad. 7** \n",
    " * Kolumna `gdp` zawiera informacje o PKB na obywatela. Stwórz nową kolumnę `gdp_total`, która będzie informować o PKB danego kraju.\n",
    " * Oblicz ile wynosi suma światowego PKB (kolumna `gdp_total`).\n",
    " * Oblicz ile krajów jest odpowiedzialnych za wytworzenie 80% światego PKB."
   ]
  },
  {
   "cell_type": "code",
   "execution_count": 18,
   "metadata": {},
   "outputs": [],
   "source": [
    "data['gdp_total'] = data['gdp'] * data['population']"
   ]
  },
  {
   "cell_type": "code",
   "execution_count": 19,
   "metadata": {},
   "outputs": [
    {
     "data": {
      "text/plain": [
       "83385987338947.0"
      ]
     },
     "execution_count": 19,
     "metadata": {},
     "output_type": "execute_result"
    }
   ],
   "source": [
    "sum(list(data['gdp_total'].values))"
   ]
  },
  {
   "cell_type": "code",
   "execution_count": 20,
   "metadata": {},
   "outputs": [
    {
     "data": {
      "text/html": [
       "<div>\n",
       "<style scoped>\n",
       "    .dataframe tbody tr th:only-of-type {\n",
       "        vertical-align: middle;\n",
       "    }\n",
       "\n",
       "    .dataframe tbody tr th {\n",
       "        vertical-align: top;\n",
       "    }\n",
       "\n",
       "    .dataframe thead th {\n",
       "        text-align: right;\n",
       "    }\n",
       "</style>\n",
       "<table border=\"1\" class=\"dataframe\">\n",
       "  <thead>\n",
       "    <tr style=\"text-align: right;\">\n",
       "      <th></th>\n",
       "      <th>Country</th>\n",
       "      <th>female_BMI</th>\n",
       "      <th>male_BMI</th>\n",
       "      <th>gdp</th>\n",
       "      <th>population</th>\n",
       "      <th>under5mortality</th>\n",
       "      <th>life_expectancy</th>\n",
       "      <th>fertility</th>\n",
       "      <th>iso</th>\n",
       "      <th>continents_codes</th>\n",
       "      <th>continent_name</th>\n",
       "      <th>gdp_total</th>\n",
       "    </tr>\n",
       "  </thead>\n",
       "  <tbody>\n",
       "    <tr>\n",
       "      <th>166</th>\n",
       "      <td>United States</td>\n",
       "      <td>28.34359</td>\n",
       "      <td>28.45698</td>\n",
       "      <td>50384.0</td>\n",
       "      <td>3.044731e+08</td>\n",
       "      <td>7.7</td>\n",
       "      <td>78.3</td>\n",
       "      <td>2.07</td>\n",
       "      <td>US</td>\n",
       "      <td>NA</td>\n",
       "      <td>North America</td>\n",
       "      <td>1.534057e+13</td>\n",
       "    </tr>\n",
       "    <tr>\n",
       "      <th>33</th>\n",
       "      <td>China</td>\n",
       "      <td>22.91041</td>\n",
       "      <td>22.92176</td>\n",
       "      <td>7880.0</td>\n",
       "      <td>1.326691e+09</td>\n",
       "      <td>18.5</td>\n",
       "      <td>73.4</td>\n",
       "      <td>1.53</td>\n",
       "      <td>CN</td>\n",
       "      <td>AS</td>\n",
       "      <td>Asia</td>\n",
       "      <td>1.045432e+13</td>\n",
       "    </tr>\n",
       "    <tr>\n",
       "      <th>71</th>\n",
       "      <td>India</td>\n",
       "      <td>21.31478</td>\n",
       "      <td>20.95956</td>\n",
       "      <td>3901.0</td>\n",
       "      <td>1.197070e+09</td>\n",
       "      <td>65.6</td>\n",
       "      <td>64.7</td>\n",
       "      <td>2.64</td>\n",
       "      <td>IN</td>\n",
       "      <td>AS</td>\n",
       "      <td>Asia</td>\n",
       "      <td>4.669770e+12</td>\n",
       "    </tr>\n",
       "    <tr>\n",
       "      <th>79</th>\n",
       "      <td>Japan</td>\n",
       "      <td>21.87088</td>\n",
       "      <td>23.50004</td>\n",
       "      <td>34800.0</td>\n",
       "      <td>1.273179e+08</td>\n",
       "      <td>3.4</td>\n",
       "      <td>82.5</td>\n",
       "      <td>1.34</td>\n",
       "      <td>JP</td>\n",
       "      <td>AS</td>\n",
       "      <td>Asia</td>\n",
       "      <td>4.430663e+12</td>\n",
       "    </tr>\n",
       "    <tr>\n",
       "      <th>58</th>\n",
       "      <td>Germany</td>\n",
       "      <td>25.73903</td>\n",
       "      <td>27.16509</td>\n",
       "      <td>41199.0</td>\n",
       "      <td>8.066591e+07</td>\n",
       "      <td>4.4</td>\n",
       "      <td>80.0</td>\n",
       "      <td>1.37</td>\n",
       "      <td>DE</td>\n",
       "      <td>EU</td>\n",
       "      <td>Europe</td>\n",
       "      <td>3.323355e+12</td>\n",
       "    </tr>\n",
       "    <tr>\n",
       "      <th>...</th>\n",
       "      <td>...</td>\n",
       "      <td>...</td>\n",
       "      <td>...</td>\n",
       "      <td>...</td>\n",
       "      <td>...</td>\n",
       "      <td>...</td>\n",
       "      <td>...</td>\n",
       "      <td>...</td>\n",
       "      <td>...</td>\n",
       "      <td>...</td>\n",
       "      <td>...</td>\n",
       "      <td>...</td>\n",
       "    </tr>\n",
       "    <tr>\n",
       "      <th>169</th>\n",
       "      <td>Vanuatu</td>\n",
       "      <td>28.45876</td>\n",
       "      <td>26.78926</td>\n",
       "      <td>2944.0</td>\n",
       "      <td>2.253350e+05</td>\n",
       "      <td>28.2</td>\n",
       "      <td>63.4</td>\n",
       "      <td>3.61</td>\n",
       "      <td>VU</td>\n",
       "      <td>OC</td>\n",
       "      <td>Oceania</td>\n",
       "      <td>6.633862e+08</td>\n",
       "    </tr>\n",
       "    <tr>\n",
       "      <th>157</th>\n",
       "      <td>Tonga</td>\n",
       "      <td>34.25969</td>\n",
       "      <td>30.99563</td>\n",
       "      <td>4748.0</td>\n",
       "      <td>1.028160e+05</td>\n",
       "      <td>17.0</td>\n",
       "      <td>70.3</td>\n",
       "      <td>4.01</td>\n",
       "      <td>TO</td>\n",
       "      <td>OC</td>\n",
       "      <td>Oceania</td>\n",
       "      <td>4.881704e+08</td>\n",
       "    </tr>\n",
       "    <tr>\n",
       "      <th>133</th>\n",
       "      <td>Sao Tome and Principe</td>\n",
       "      <td>24.88216</td>\n",
       "      <td>23.51233</td>\n",
       "      <td>2673.0</td>\n",
       "      <td>1.635950e+05</td>\n",
       "      <td>61.0</td>\n",
       "      <td>66.0</td>\n",
       "      <td>4.41</td>\n",
       "      <td>ST</td>\n",
       "      <td>AF</td>\n",
       "      <td>Africa</td>\n",
       "      <td>4.372894e+08</td>\n",
       "    </tr>\n",
       "    <tr>\n",
       "      <th>103</th>\n",
       "      <td>Micronesia</td>\n",
       "      <td>31.28402</td>\n",
       "      <td>28.10315</td>\n",
       "      <td>3197.0</td>\n",
       "      <td>1.044720e+05</td>\n",
       "      <td>43.1</td>\n",
       "      <td>68.0</td>\n",
       "      <td>3.59</td>\n",
       "      <td>FM</td>\n",
       "      <td>OC</td>\n",
       "      <td>Oceania</td>\n",
       "      <td>3.339970e+08</td>\n",
       "    </tr>\n",
       "    <tr>\n",
       "      <th>83</th>\n",
       "      <td>Kiribati</td>\n",
       "      <td>31.30769</td>\n",
       "      <td>29.23840</td>\n",
       "      <td>1803.0</td>\n",
       "      <td>9.843700e+04</td>\n",
       "      <td>64.5</td>\n",
       "      <td>61.5</td>\n",
       "      <td>3.13</td>\n",
       "      <td>KI</td>\n",
       "      <td>OC</td>\n",
       "      <td>Oceania</td>\n",
       "      <td>1.774819e+08</td>\n",
       "    </tr>\n",
       "  </tbody>\n",
       "</table>\n",
       "<p>175 rows × 12 columns</p>\n",
       "</div>"
      ],
      "text/plain": [
       "                   Country  female_BMI  male_BMI      gdp    population  \\\n",
       "166          United States    28.34359  28.45698  50384.0  3.044731e+08   \n",
       "33                   China    22.91041  22.92176   7880.0  1.326691e+09   \n",
       "71                   India    21.31478  20.95956   3901.0  1.197070e+09   \n",
       "79                   Japan    21.87088  23.50004  34800.0  1.273179e+08   \n",
       "58                 Germany    25.73903  27.16509  41199.0  8.066591e+07   \n",
       "..                     ...         ...       ...      ...           ...   \n",
       "169                Vanuatu    28.45876  26.78926   2944.0  2.253350e+05   \n",
       "157                  Tonga    34.25969  30.99563   4748.0  1.028160e+05   \n",
       "133  Sao Tome and Principe    24.88216  23.51233   2673.0  1.635950e+05   \n",
       "103             Micronesia    31.28402  28.10315   3197.0  1.044720e+05   \n",
       "83                Kiribati    31.30769  29.23840   1803.0  9.843700e+04   \n",
       "\n",
       "     under5mortality  life_expectancy  fertility iso continents_codes  \\\n",
       "166              7.7             78.3       2.07  US               NA   \n",
       "33              18.5             73.4       1.53  CN               AS   \n",
       "71              65.6             64.7       2.64  IN               AS   \n",
       "79               3.4             82.5       1.34  JP               AS   \n",
       "58               4.4             80.0       1.37  DE               EU   \n",
       "..               ...              ...        ...  ..              ...   \n",
       "169             28.2             63.4       3.61  VU               OC   \n",
       "157             17.0             70.3       4.01  TO               OC   \n",
       "133             61.0             66.0       4.41  ST               AF   \n",
       "103             43.1             68.0       3.59  FM               OC   \n",
       "83              64.5             61.5       3.13  KI               OC   \n",
       "\n",
       "    continent_name     gdp_total  \n",
       "166  North America  1.534057e+13  \n",
       "33            Asia  1.045432e+13  \n",
       "71            Asia  4.669770e+12  \n",
       "79            Asia  4.430663e+12  \n",
       "58          Europe  3.323355e+12  \n",
       "..             ...           ...  \n",
       "169        Oceania  6.633862e+08  \n",
       "157        Oceania  4.881704e+08  \n",
       "133         Africa  4.372894e+08  \n",
       "103        Oceania  3.339970e+08  \n",
       "83         Oceania  1.774819e+08  \n",
       "\n",
       "[175 rows x 12 columns]"
      ]
     },
     "execution_count": 20,
     "metadata": {},
     "output_type": "execute_result"
    }
   ],
   "source": [
    "data.sort_values(by='gdp_total', ascending=False)"
   ]
  },
  {
   "cell_type": "markdown",
   "metadata": {},
   "source": [
    "**zad. 8** Wyświetl wszystkie europejskie państwa, w których oczekiwana długość życia wynosi conajmniej 80 lat. "
   ]
  },
  {
   "cell_type": "code",
   "execution_count": 21,
   "metadata": {},
   "outputs": [
    {
     "data": {
      "text/html": [
       "<div>\n",
       "<style scoped>\n",
       "    .dataframe tbody tr th:only-of-type {\n",
       "        vertical-align: middle;\n",
       "    }\n",
       "\n",
       "    .dataframe tbody tr th {\n",
       "        vertical-align: top;\n",
       "    }\n",
       "\n",
       "    .dataframe thead th {\n",
       "        text-align: right;\n",
       "    }\n",
       "</style>\n",
       "<table border=\"1\" class=\"dataframe\">\n",
       "  <thead>\n",
       "    <tr style=\"text-align: right;\">\n",
       "      <th></th>\n",
       "      <th>Country</th>\n",
       "      <th>female_BMI</th>\n",
       "      <th>male_BMI</th>\n",
       "      <th>gdp</th>\n",
       "      <th>population</th>\n",
       "      <th>under5mortality</th>\n",
       "      <th>life_expectancy</th>\n",
       "      <th>fertility</th>\n",
       "      <th>iso</th>\n",
       "      <th>continents_codes</th>\n",
       "      <th>continent_name</th>\n",
       "      <th>gdp_total</th>\n",
       "    </tr>\n",
       "  </thead>\n",
       "  <tbody>\n",
       "    <tr>\n",
       "      <th>8</th>\n",
       "      <td>Austria</td>\n",
       "      <td>25.09414</td>\n",
       "      <td>26.46741</td>\n",
       "      <td>43952.0</td>\n",
       "      <td>8331465.0</td>\n",
       "      <td>4.6</td>\n",
       "      <td>80.4</td>\n",
       "      <td>1.41</td>\n",
       "      <td>AT</td>\n",
       "      <td>EU</td>\n",
       "      <td>Europe</td>\n",
       "      <td>3.661845e+11</td>\n",
       "    </tr>\n",
       "    <tr>\n",
       "      <th>54</th>\n",
       "      <td>France</td>\n",
       "      <td>24.82949</td>\n",
       "      <td>25.85329</td>\n",
       "      <td>37505.0</td>\n",
       "      <td>62309529.0</td>\n",
       "      <td>4.3</td>\n",
       "      <td>81.1</td>\n",
       "      <td>1.97</td>\n",
       "      <td>FR</td>\n",
       "      <td>EU</td>\n",
       "      <td>Europe</td>\n",
       "      <td>2.336919e+12</td>\n",
       "    </tr>\n",
       "    <tr>\n",
       "      <th>58</th>\n",
       "      <td>Germany</td>\n",
       "      <td>25.73903</td>\n",
       "      <td>27.16509</td>\n",
       "      <td>41199.0</td>\n",
       "      <td>80665906.0</td>\n",
       "      <td>4.4</td>\n",
       "      <td>80.0</td>\n",
       "      <td>1.37</td>\n",
       "      <td>DE</td>\n",
       "      <td>EU</td>\n",
       "      <td>Europe</td>\n",
       "      <td>3.323355e+12</td>\n",
       "    </tr>\n",
       "    <tr>\n",
       "      <th>60</th>\n",
       "      <td>Greece</td>\n",
       "      <td>24.92026</td>\n",
       "      <td>26.33786</td>\n",
       "      <td>32197.0</td>\n",
       "      <td>11161755.0</td>\n",
       "      <td>4.9</td>\n",
       "      <td>80.2</td>\n",
       "      <td>1.46</td>\n",
       "      <td>GR</td>\n",
       "      <td>EU</td>\n",
       "      <td>Europe</td>\n",
       "      <td>3.593750e+11</td>\n",
       "    </tr>\n",
       "    <tr>\n",
       "      <th>70</th>\n",
       "      <td>Iceland</td>\n",
       "      <td>26.02599</td>\n",
       "      <td>27.20687</td>\n",
       "      <td>42294.0</td>\n",
       "      <td>310033.0</td>\n",
       "      <td>2.7</td>\n",
       "      <td>82.4</td>\n",
       "      <td>2.12</td>\n",
       "      <td>IS</td>\n",
       "      <td>EU</td>\n",
       "      <td>Europe</td>\n",
       "      <td>1.311254e+10</td>\n",
       "    </tr>\n",
       "    <tr>\n",
       "      <th>75</th>\n",
       "      <td>Ireland</td>\n",
       "      <td>26.62176</td>\n",
       "      <td>27.65325</td>\n",
       "      <td>47713.0</td>\n",
       "      <td>4480145.0</td>\n",
       "      <td>4.5</td>\n",
       "      <td>80.1</td>\n",
       "      <td>2.00</td>\n",
       "      <td>IE</td>\n",
       "      <td>EU</td>\n",
       "      <td>Europe</td>\n",
       "      <td>2.137612e+11</td>\n",
       "    </tr>\n",
       "    <tr>\n",
       "      <th>77</th>\n",
       "      <td>Italy</td>\n",
       "      <td>24.79289</td>\n",
       "      <td>26.48020</td>\n",
       "      <td>37475.0</td>\n",
       "      <td>59319234.0</td>\n",
       "      <td>4.1</td>\n",
       "      <td>81.5</td>\n",
       "      <td>1.39</td>\n",
       "      <td>IT</td>\n",
       "      <td>EU</td>\n",
       "      <td>Europe</td>\n",
       "      <td>2.222988e+12</td>\n",
       "    </tr>\n",
       "    <tr>\n",
       "      <th>91</th>\n",
       "      <td>Luxembourg</td>\n",
       "      <td>26.09326</td>\n",
       "      <td>27.43404</td>\n",
       "      <td>95001.0</td>\n",
       "      <td>485079.0</td>\n",
       "      <td>2.8</td>\n",
       "      <td>81.0</td>\n",
       "      <td>1.63</td>\n",
       "      <td>LU</td>\n",
       "      <td>EU</td>\n",
       "      <td>Europe</td>\n",
       "      <td>4.608299e+10</td>\n",
       "    </tr>\n",
       "    <tr>\n",
       "      <th>99</th>\n",
       "      <td>Malta</td>\n",
       "      <td>27.04993</td>\n",
       "      <td>27.68361</td>\n",
       "      <td>27872.0</td>\n",
       "      <td>406392.0</td>\n",
       "      <td>6.6</td>\n",
       "      <td>80.7</td>\n",
       "      <td>1.38</td>\n",
       "      <td>MT</td>\n",
       "      <td>EU</td>\n",
       "      <td>Europe</td>\n",
       "      <td>1.132696e+10</td>\n",
       "    </tr>\n",
       "    <tr>\n",
       "      <th>112</th>\n",
       "      <td>Netherlands</td>\n",
       "      <td>25.47269</td>\n",
       "      <td>26.01541</td>\n",
       "      <td>47388.0</td>\n",
       "      <td>16519862.0</td>\n",
       "      <td>4.8</td>\n",
       "      <td>80.3</td>\n",
       "      <td>1.77</td>\n",
       "      <td>NL</td>\n",
       "      <td>EU</td>\n",
       "      <td>Europe</td>\n",
       "      <td>7.828432e+11</td>\n",
       "    </tr>\n",
       "    <tr>\n",
       "      <th>117</th>\n",
       "      <td>Norway</td>\n",
       "      <td>25.73772</td>\n",
       "      <td>26.93424</td>\n",
       "      <td>65216.0</td>\n",
       "      <td>4771633.0</td>\n",
       "      <td>3.6</td>\n",
       "      <td>80.8</td>\n",
       "      <td>1.96</td>\n",
       "      <td>NO</td>\n",
       "      <td>EU</td>\n",
       "      <td>Europe</td>\n",
       "      <td>3.111868e+11</td>\n",
       "    </tr>\n",
       "    <tr>\n",
       "      <th>145</th>\n",
       "      <td>Spain</td>\n",
       "      <td>26.30554</td>\n",
       "      <td>27.49975</td>\n",
       "      <td>34676.0</td>\n",
       "      <td>45817016.0</td>\n",
       "      <td>5.0</td>\n",
       "      <td>81.1</td>\n",
       "      <td>1.42</td>\n",
       "      <td>ES</td>\n",
       "      <td>EU</td>\n",
       "      <td>Europe</td>\n",
       "      <td>1.588751e+12</td>\n",
       "    </tr>\n",
       "    <tr>\n",
       "      <th>150</th>\n",
       "      <td>Sweden</td>\n",
       "      <td>25.14660</td>\n",
       "      <td>26.37629</td>\n",
       "      <td>43421.0</td>\n",
       "      <td>9226333.0</td>\n",
       "      <td>3.2</td>\n",
       "      <td>81.1</td>\n",
       "      <td>1.92</td>\n",
       "      <td>SE</td>\n",
       "      <td>EU</td>\n",
       "      <td>Europe</td>\n",
       "      <td>4.006166e+11</td>\n",
       "    </tr>\n",
       "    <tr>\n",
       "      <th>151</th>\n",
       "      <td>Switzerland</td>\n",
       "      <td>24.07242</td>\n",
       "      <td>26.20195</td>\n",
       "      <td>55020.0</td>\n",
       "      <td>7646542.0</td>\n",
       "      <td>4.7</td>\n",
       "      <td>82.0</td>\n",
       "      <td>1.47</td>\n",
       "      <td>CH</td>\n",
       "      <td>EU</td>\n",
       "      <td>Europe</td>\n",
       "      <td>4.207127e+11</td>\n",
       "    </tr>\n",
       "  </tbody>\n",
       "</table>\n",
       "</div>"
      ],
      "text/plain": [
       "         Country  female_BMI  male_BMI      gdp  population  under5mortality  \\\n",
       "8        Austria    25.09414  26.46741  43952.0   8331465.0              4.6   \n",
       "54        France    24.82949  25.85329  37505.0  62309529.0              4.3   \n",
       "58       Germany    25.73903  27.16509  41199.0  80665906.0              4.4   \n",
       "60        Greece    24.92026  26.33786  32197.0  11161755.0              4.9   \n",
       "70       Iceland    26.02599  27.20687  42294.0    310033.0              2.7   \n",
       "75       Ireland    26.62176  27.65325  47713.0   4480145.0              4.5   \n",
       "77         Italy    24.79289  26.48020  37475.0  59319234.0              4.1   \n",
       "91    Luxembourg    26.09326  27.43404  95001.0    485079.0              2.8   \n",
       "99         Malta    27.04993  27.68361  27872.0    406392.0              6.6   \n",
       "112  Netherlands    25.47269  26.01541  47388.0  16519862.0              4.8   \n",
       "117       Norway    25.73772  26.93424  65216.0   4771633.0              3.6   \n",
       "145        Spain    26.30554  27.49975  34676.0  45817016.0              5.0   \n",
       "150       Sweden    25.14660  26.37629  43421.0   9226333.0              3.2   \n",
       "151  Switzerland    24.07242  26.20195  55020.0   7646542.0              4.7   \n",
       "\n",
       "     life_expectancy  fertility iso continents_codes continent_name  \\\n",
       "8               80.4       1.41  AT               EU         Europe   \n",
       "54              81.1       1.97  FR               EU         Europe   \n",
       "58              80.0       1.37  DE               EU         Europe   \n",
       "60              80.2       1.46  GR               EU         Europe   \n",
       "70              82.4       2.12  IS               EU         Europe   \n",
       "75              80.1       2.00  IE               EU         Europe   \n",
       "77              81.5       1.39  IT               EU         Europe   \n",
       "91              81.0       1.63  LU               EU         Europe   \n",
       "99              80.7       1.38  MT               EU         Europe   \n",
       "112             80.3       1.77  NL               EU         Europe   \n",
       "117             80.8       1.96  NO               EU         Europe   \n",
       "145             81.1       1.42  ES               EU         Europe   \n",
       "150             81.1       1.92  SE               EU         Europe   \n",
       "151             82.0       1.47  CH               EU         Europe   \n",
       "\n",
       "        gdp_total  \n",
       "8    3.661845e+11  \n",
       "54   2.336919e+12  \n",
       "58   3.323355e+12  \n",
       "60   3.593750e+11  \n",
       "70   1.311254e+10  \n",
       "75   2.137612e+11  \n",
       "77   2.222988e+12  \n",
       "91   4.608299e+10  \n",
       "99   1.132696e+10  \n",
       "112  7.828432e+11  \n",
       "117  3.111868e+11  \n",
       "145  1.588751e+12  \n",
       "150  4.006166e+11  \n",
       "151  4.207127e+11  "
      ]
     },
     "execution_count": 21,
     "metadata": {},
     "output_type": "execute_result"
    }
   ],
   "source": [
    "data[(data['continent_name'] == 'Europe') & (data['life_expectancy'] >= 80)]"
   ]
  },
  {
   "cell_type": "markdown",
   "metadata": {},
   "source": [
    "**zad. 9** Znajdź państwo, które ma najbardziej zbliżone PKB do Polski. Spróbuj rozwiązać to zadanie w jednej linijce."
   ]
  },
  {
   "cell_type": "code",
   "execution_count": 22,
   "metadata": {},
   "outputs": [
    {
     "data": {
      "text/html": [
       "<div>\n",
       "<style scoped>\n",
       "    .dataframe tbody tr th:only-of-type {\n",
       "        vertical-align: middle;\n",
       "    }\n",
       "\n",
       "    .dataframe tbody tr th {\n",
       "        vertical-align: top;\n",
       "    }\n",
       "\n",
       "    .dataframe thead th {\n",
       "        text-align: right;\n",
       "    }\n",
       "</style>\n",
       "<table border=\"1\" class=\"dataframe\">\n",
       "  <thead>\n",
       "    <tr style=\"text-align: right;\">\n",
       "      <th></th>\n",
       "      <th>Country</th>\n",
       "      <th>female_BMI</th>\n",
       "      <th>male_BMI</th>\n",
       "      <th>gdp</th>\n",
       "      <th>population</th>\n",
       "      <th>under5mortality</th>\n",
       "      <th>life_expectancy</th>\n",
       "      <th>fertility</th>\n",
       "      <th>iso</th>\n",
       "      <th>continents_codes</th>\n",
       "      <th>continent_name</th>\n",
       "      <th>gdp_total</th>\n",
       "    </tr>\n",
       "  </thead>\n",
       "  <tbody>\n",
       "    <tr>\n",
       "      <th>85</th>\n",
       "      <td>Latvia</td>\n",
       "      <td>25.61513</td>\n",
       "      <td>26.45693</td>\n",
       "      <td>20977.0</td>\n",
       "      <td>2144215.0</td>\n",
       "      <td>10.5</td>\n",
       "      <td>72.4</td>\n",
       "      <td>1.50</td>\n",
       "      <td>LV</td>\n",
       "      <td>EU</td>\n",
       "      <td>Europe</td>\n",
       "      <td>4.497920e+10</td>\n",
       "    </tr>\n",
       "    <tr>\n",
       "      <th>96</th>\n",
       "      <td>Malaysia</td>\n",
       "      <td>25.44832</td>\n",
       "      <td>24.73069</td>\n",
       "      <td>19968.0</td>\n",
       "      <td>27197419.0</td>\n",
       "      <td>8.0</td>\n",
       "      <td>74.5</td>\n",
       "      <td>2.05</td>\n",
       "      <td>MY</td>\n",
       "      <td>AS</td>\n",
       "      <td>Asia</td>\n",
       "      <td>5.430781e+11</td>\n",
       "    </tr>\n",
       "    <tr>\n",
       "      <th>125</th>\n",
       "      <td>Poland</td>\n",
       "      <td>25.91887</td>\n",
       "      <td>26.67380</td>\n",
       "      <td>19996.0</td>\n",
       "      <td>38525752.0</td>\n",
       "      <td>6.7</td>\n",
       "      <td>75.4</td>\n",
       "      <td>1.33</td>\n",
       "      <td>PL</td>\n",
       "      <td>EU</td>\n",
       "      <td>Europe</td>\n",
       "      <td>7.703609e+11</td>\n",
       "    </tr>\n",
       "    <tr>\n",
       "      <th>137</th>\n",
       "      <td>Seychelles</td>\n",
       "      <td>27.97374</td>\n",
       "      <td>25.56236</td>\n",
       "      <td>20065.0</td>\n",
       "      <td>91634.0</td>\n",
       "      <td>14.2</td>\n",
       "      <td>72.9</td>\n",
       "      <td>2.28</td>\n",
       "      <td>SC</td>\n",
       "      <td>AF</td>\n",
       "      <td>Africa</td>\n",
       "      <td>1.838636e+09</td>\n",
       "    </tr>\n",
       "  </tbody>\n",
       "</table>\n",
       "</div>"
      ],
      "text/plain": [
       "        Country  female_BMI  male_BMI      gdp  population  under5mortality  \\\n",
       "85       Latvia    25.61513  26.45693  20977.0   2144215.0             10.5   \n",
       "96     Malaysia    25.44832  24.73069  19968.0  27197419.0              8.0   \n",
       "125      Poland    25.91887  26.67380  19996.0  38525752.0              6.7   \n",
       "137  Seychelles    27.97374  25.56236  20065.0     91634.0             14.2   \n",
       "\n",
       "     life_expectancy  fertility iso continents_codes continent_name  \\\n",
       "85              72.4       1.50  LV               EU         Europe   \n",
       "96              74.5       2.05  MY               AS           Asia   \n",
       "125             75.4       1.33  PL               EU         Europe   \n",
       "137             72.9       2.28  SC               AF         Africa   \n",
       "\n",
       "        gdp_total  \n",
       "85   4.497920e+10  \n",
       "96   5.430781e+11  \n",
       "125  7.703609e+11  \n",
       "137  1.838636e+09  "
      ]
     },
     "execution_count": 22,
     "metadata": {},
     "output_type": "execute_result"
    }
   ],
   "source": [
    "gdp_poland = data.loc[data['Country'] == 'Poland', 'gdp'].values[0]\n",
    "\n",
    "threshold: int = 1000 # I assumed this threshold\n",
    "data[data['gdp'].between(gdp_poland - 1000, gdp_poland + 1000)] # chosing values between polish gdp minus 1000 and polis gdp plus 1000"
   ]
  },
  {
   "cell_type": "markdown",
   "metadata": {},
   "source": [
    "**zad. 10 (ostatnie)**\n",
    " * Zobacz czy masz zainstalowaną bibliotekę `requests`, która sluży do wykonywania zapytań HTTP. Jeżeli nie, to zainstaluj ją. \n",
    " * Uruchom z funkcję `requests.get` podając jako argument link: `https://aws.random.cat/meow`. Wynik zapisz do zmiennej response.\n",
    " * Wykonaj metodę `json()` na zmiennej `response` która zwróci Ci słownik, w którym będzie klucz `file`. Zapisz wartość `file` do zmiennej `url`.\n",
    " * Zaimportuj `Image` i `display` z biblioteki `from IPython.core.display`.\n",
    " * Stwórz obiekt Image podając w konstruktorze zmienną `url`,a wynik zapisz do `image`.\n",
    " * Wykonaj funkcję `display` na obiekcie `image`.\n",
    " "
   ]
  },
  {
   "cell_type": "code",
   "execution_count": 23,
   "metadata": {},
   "outputs": [
    {
     "name": "stdout",
     "output_type": "stream",
     "text": [
      "Requirement already satisfied: requests in c:\\users\\user\\anaconda3\\lib\\site-packages (2.24.0)\n",
      "Requirement already satisfied: chardet<4,>=3.0.2 in c:\\users\\user\\anaconda3\\lib\\site-packages (from requests) (3.0.4)\n",
      "Requirement already satisfied: certifi>=2017.4.17 in c:\\users\\user\\anaconda3\\lib\\site-packages (from requests) (2020.6.20)\n",
      "Requirement already satisfied: urllib3!=1.25.0,!=1.25.1,<1.26,>=1.21.1 in c:\\users\\user\\anaconda3\\lib\\site-packages (from requests) (1.25.11)\n",
      "Requirement already satisfied: idna<3,>=2.5 in c:\\users\\user\\anaconda3\\lib\\site-packages (from requests) (2.10)\n",
      "Note: you may need to restart the kernel to use updated packages.\n"
     ]
    }
   ],
   "source": [
    "pip install requests"
   ]
  },
  {
   "cell_type": "code",
   "execution_count": 24,
   "metadata": {},
   "outputs": [],
   "source": [
    "import requests\n",
    "url = requests.get('https://aws.random.cat/meow').json()['file']"
   ]
  },
  {
   "cell_type": "code",
   "execution_count": 25,
   "metadata": {},
   "outputs": [],
   "source": [
    "from PIL import Image"
   ]
  },
  {
   "cell_type": "code",
   "execution_count": 26,
   "metadata": {},
   "outputs": [],
   "source": [
    "# import urllib.request\n",
    "# from PIL import Image\n",
    "  \n",
    "\n",
    "# Image.open(url)"
   ]
  },
  {
   "cell_type": "markdown",
   "metadata": {},
   "source": [
    "Code above doesn't work for me but I think that much better approach would be save this url in markdown cell"
   ]
  },
  {
   "cell_type": "markdown",
   "metadata": {},
   "source": [
    "### STEPS:"
   ]
  },
  {
   "cell_type": "markdown",
   "metadata": {},
   "source": [
    "<b>\n",
    "    \n",
    "1. Copy this url\n",
    "    \n",
    "2. Paste this url to your browser\n",
    "    \n",
    "3. download this file\n",
    "    \n",
    "4. drag this fale to MARKDOWN CELL\n",
    "    \n",
    "    <b>"
   ]
  },
  {
   "cell_type": "code",
   "execution_count": 27,
   "metadata": {},
   "outputs": [
    {
     "name": "stdout",
     "output_type": "stream",
     "text": [
      "https://purr.objects-us-east-1.dream.io/i/10-21-09_0557.jpg\n"
     ]
    }
   ],
   "source": [
    "print(url)"
   ]
  },
  {
   "attachments": {
    "5704188227_72e8392ef2_z.jpg": {
     "image/jpeg": "[encoded data removed]"
    }
   },
   "cell_type": "markdown",
   "metadata": {},
   "source": [
    "![5704188227_72e8392ef2_z.jpg](attachment:5704188227_72e8392ef2_z.jpg)"
   ]
  }
 ],
 "metadata": {
  "kernelspec": {
   "display_name": "Python 3",
   "language": "python",
   "name": "python3"
  },
  "language_info": {
   "codemirror_mode": {
    "name": "ipython",
    "version": 3
   },
   "file_extension": ".py",
   "mimetype": "text/x-python",
   "name": "python",
   "nbconvert_exporter": "python",
   "pygments_lexer": "ipython3",
   "version": "3.8.5"
  }
 },
 "nbformat": 4,
 "nbformat_minor": 2
}
